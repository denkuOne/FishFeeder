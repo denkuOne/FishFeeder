{
 "cells": [
  {
   "attachments": {},
   "cell_type": "markdown",
   "metadata": {},
   "source": [
    "# FishFeeder Project\n",
    "A prototype of automatic fish food dispensor.\n",
    "***\n",
    "\n",
    "### Tools\n",
    "\n",
    "- FreeCAD\n",
    "- PrusaSlicer (convert CAD data to 3D printing data.)\n",
    "- PRUSA i3 MK3 (3D Printer)\n",
    "- KiCad (PCB and Circuit Design)\n",
    "\n",
    "### Parts\n",
    "\n",
    "- ATMEL 35473D ATEMEGA328P U 1821Y8Q (same as Aruduino controller)\n",
    "- TS 243YJ48-25 (Stepping moter 5V DC 120Ω)\n",
    "\n",
    "### Rules\n",
    "\n",
    "- M2.6 * x mm\n",
    "- M3.0 * x mm\n",
    "\n",
    "***\n"
   ]
  },
  {
   "attachments": {},
   "cell_type": "markdown",
   "metadata": {},
   "source": [
    "### Plan"
   ]
  },
  {
   "cell_type": "code",
   "execution_count": 7,
   "metadata": {},
   "outputs": [
    {
     "data": {
      "text/plain": [
       "1000"
      ]
     },
     "execution_count": 7,
     "metadata": {},
     "output_type": "execute_result"
    }
   ],
   "source": [
    "\n",
    "\n"
   ]
  },
  {
   "attachments": {},
   "cell_type": "markdown",
   "metadata": {},
   "source": [
    "### Plan\n"
   ]
  },
  {
   "cell_type": "code",
   "execution_count": 5,
   "metadata": {},
   "outputs": [],
   "source": [
    "\n",
    "\n"
   ]
  },
  {
   "cell_type": "code",
   "execution_count": null,
   "metadata": {},
   "outputs": [],
   "source": []
  }
 ],
 "metadata": {
  "kernelspec": {
   "display_name": "base",
   "language": "python",
   "name": "python3"
  },
  "language_info": {
   "codemirror_mode": {
    "name": "ipython",
    "version": 3
   },
   "file_extension": ".py",
   "mimetype": "text/x-python",
   "name": "python",
   "nbconvert_exporter": "python",
   "pygments_lexer": "ipython3",
   "version": "3.9.7"
  },
  "orig_nbformat": 4,
  "vscode": {
   "interpreter": {
    "hash": "1562b9778a2d5d12366d6e53608136773de130c1d85a6853b7cc90a2ee36456f"
   }
  }
 },
 "nbformat": 4,
 "nbformat_minor": 2
}
